{
 "cells": [
  {
   "cell_type": "code",
   "execution_count": 2,
   "id": "1b287b7c-a2b7-4a78-8ca4-2e0a922d44a6",
   "metadata": {},
   "outputs": [],
   "source": [
    "import numpy as np\n",
    "import matplotlib.pyplot as plt"
   ]
  },
  {
   "cell_type": "markdown",
   "id": "b03434cc-9d04-486d-b244-42ad9d114d0e",
   "metadata": {},
   "source": [
    "# Training a ML model in anomalous diffusion data "
   ]
  },
  {
   "cell_type": "markdown",
   "id": "a1b46707-0eb5-40aa-80c2-2e551a7fad70",
   "metadata": {},
   "source": [
    "### Creating a training datasets\n",
    "We make use of the `andi-datasets` python library to generate a dataset with which we will train the machine. Following the results of our paper, here we showcase the training of a machine with ATTM and FBM trajectories, with exponent $\\alpha \\in [0.1,1]$. For details on the generation of the dataset, please visit the [andi-datasets repo](https://github.com/AnDiChallenge/andi_datasets/)."
   ]
  },
  {
   "cell_type": "code",
   "execution_count": 4,
   "id": "f11cc01b-8108-4488-b992-ba5781187fea",
   "metadata": {
    "collapsed": true,
    "jupyter": {
     "outputs_hidden": true
    },
    "tags": []
   },
   "outputs": [
    {
     "name": "stderr",
     "output_type": "stream",
     "text": [
      "100%|████████████████████████████████████████| 1000/1000 [00:00<00:00, 6986.79it/s, exponent=0.1, model=attm, saving=1]\n",
      "100%|███████████████████████████████████████| 1000/1000 [00:00<00:00, 7712.92it/s, exponent=0.15, model=attm, saving=1]\n",
      "100%|████████████████████████████████████████| 1000/1000 [00:00<00:00, 6914.45it/s, exponent=0.2, model=attm, saving=1]\n",
      "100%|███████████████████████████████████████| 1000/1000 [00:00<00:00, 6665.93it/s, exponent=0.25, model=attm, saving=1]\n",
      "100%|████████████████████████████████████████| 1000/1000 [00:00<00:00, 6684.53it/s, exponent=0.3, model=attm, saving=1]\n",
      "100%|███████████████████████████████████████| 1000/1000 [00:00<00:00, 4630.90it/s, exponent=0.35, model=attm, saving=1]\n",
      "100%|████████████████████████████████████████| 1000/1000 [00:00<00:00, 4526.78it/s, exponent=0.4, model=attm, saving=1]\n",
      "100%|███████████████████████████████████████| 1000/1000 [00:00<00:00, 3619.75it/s, exponent=0.45, model=attm, saving=1]\n",
      "100%|████████████████████████████████████████| 1000/1000 [00:00<00:00, 2149.23it/s, exponent=0.5, model=attm, saving=1]\n",
      "100%|███████████████████████████████████████| 1000/1000 [00:00<00:00, 1867.35it/s, exponent=0.55, model=attm, saving=1]\n",
      "100%|████████████████████████████████████████| 1000/1000 [00:00<00:00, 1605.52it/s, exponent=0.6, model=attm, saving=1]\n",
      "100%|███████████████████████████████████████| 1000/1000 [00:00<00:00, 1186.74it/s, exponent=0.65, model=attm, saving=1]\n",
      "100%|█████████████████████████████████████████| 1000/1000 [00:01<00:00, 819.28it/s, exponent=0.7, model=attm, saving=1]\n",
      "100%|████████████████████████████████████████| 1000/1000 [00:01<00:00, 584.21it/s, exponent=0.75, model=attm, saving=1]\n",
      "100%|█████████████████████████████████████████| 1000/1000 [00:01<00:00, 515.13it/s, exponent=0.8, model=attm, saving=1]\n",
      "100%|████████████████████████████████████████| 1000/1000 [00:02<00:00, 415.71it/s, exponent=0.85, model=attm, saving=1]\n",
      "100%|█████████████████████████████████████████| 1000/1000 [00:02<00:00, 353.30it/s, exponent=0.9, model=attm, saving=1]\n",
      "100%|████████████████████████████████████████| 1000/1000 [00:03<00:00, 326.72it/s, exponent=0.95, model=attm, saving=1]\n",
      "100%|█████████████████████████████████████████| 1000/1000 [00:00<00:00, 5729.53it/s, exponent=0.1, model=fbm, saving=1]\n",
      "100%|████████████████████████████████████████| 1000/1000 [00:00<00:00, 5863.64it/s, exponent=0.15, model=fbm, saving=1]\n",
      "100%|█████████████████████████████████████████| 1000/1000 [00:00<00:00, 5897.85it/s, exponent=0.2, model=fbm, saving=1]\n",
      "100%|████████████████████████████████████████| 1000/1000 [00:00<00:00, 5863.26it/s, exponent=0.25, model=fbm, saving=1]\n",
      "100%|█████████████████████████████████████████| 1000/1000 [00:00<00:00, 5845.55it/s, exponent=0.3, model=fbm, saving=1]\n",
      "100%|████████████████████████████████████████| 1000/1000 [00:00<00:00, 5863.54it/s, exponent=0.35, model=fbm, saving=1]\n",
      "100%|█████████████████████████████████████████| 1000/1000 [00:00<00:00, 5968.31it/s, exponent=0.4, model=fbm, saving=1]\n",
      "100%|████████████████████████████████████████| 1000/1000 [00:00<00:00, 5863.64it/s, exponent=0.45, model=fbm, saving=1]\n",
      "100%|█████████████████████████████████████████| 1000/1000 [00:00<00:00, 5633.01it/s, exponent=0.5, model=fbm, saving=1]\n",
      "100%|████████████████████████████████████████| 1000/1000 [00:00<00:00, 5863.57it/s, exponent=0.55, model=fbm, saving=1]\n",
      "100%|█████████████████████████████████████████| 1000/1000 [00:00<00:00, 5845.96it/s, exponent=0.6, model=fbm, saving=1]\n",
      "100%|████████████████████████████████████████| 1000/1000 [00:00<00:00, 5601.20it/s, exponent=0.65, model=fbm, saving=1]\n",
      "100%|█████████████████████████████████████████| 1000/1000 [00:00<00:00, 5710.68it/s, exponent=0.7, model=fbm, saving=1]\n",
      "100%|████████████████████████████████████████| 1000/1000 [00:00<00:00, 5795.14it/s, exponent=0.75, model=fbm, saving=1]\n",
      "100%|█████████████████████████████████████████| 1000/1000 [00:00<00:00, 5896.86it/s, exponent=0.8, model=fbm, saving=1]\n",
      "100%|████████████████████████████████████████| 1000/1000 [00:00<00:00, 5627.81it/s, exponent=0.85, model=fbm, saving=1]\n",
      "100%|█████████████████████████████████████████| 1000/1000 [00:00<00:00, 5729.50it/s, exponent=0.9, model=fbm, saving=1]\n",
      "100%|████████████████████████████████████████| 1000/1000 [00:00<00:00, 5863.60it/s, exponent=0.95, model=fbm, saving=1]\n"
     ]
    }
   ],
   "source": [
    "from andi_datasets.datasets_theory import datasets_theory as DT\n",
    "from andi_datasets.utils_trajectories import normalize\n",
    "\n",
    "N = 1000                          # number of trajectories per model and exponent\n",
    "T = 30                            # length of the trajectories\n",
    "models = [0,2]                    # label of the diffusion models considered (ATTM = 0, FBM = 2)\n",
    "exponents = np.arange(0.1,1,0.05) # anomalous exponents considered\n",
    "path = 'datasets/'                # path where to save the dataset (once saved, you can load the\n",
    "                                  # dataset, see details in andi-datasets repo)\n",
    "\n",
    "# Create the dataset\n",
    "dataset = DT().create_dataset(T = T,\n",
    "                              N_models= N, \n",
    "                              exponents = exponents, \n",
    "                              models = models, \n",
    "                              save_trajectories = True, \n",
    "                              path = path)"
   ]
  },
  {
   "cell_type": "markdown",
   "id": "2194896e-9b1e-480c-8810-449c0d8f05e6",
   "metadata": {},
   "source": [
    "Now we separate the datasets in a training/test set dataset with ratio 80-20:"
   ]
  },
  {
   "cell_type": "code",
   "execution_count": 5,
   "id": "1bdaa33a-2915-4596-b15d-f0fce0292cf3",
   "metadata": {},
   "outputs": [
    {
     "data": {
      "text/plain": [
       "(7200, 30, 1)"
      ]
     },
     "execution_count": 5,
     "metadata": {},
     "output_type": "execute_result"
    }
   ],
   "source": [
    "# First, we shuffle the dataset to mix all exponents and models\n",
    "np.random.shuffle(dataset)\n",
    "\n",
    "# Now we separate the trajectories (e.g. the T-2 last elements of each row from dataset, see \n",
    "# andi-datasets for more details)\n",
    "# Importantly, we also normalize the trajectories\n",
    "ratio = int(0.8*dataset.shape[0])\n",
    "X_a = normalize(dataset[:ratio, 2:]).reshape(ratio, T, 1)\n",
    "X_e = normalize(dataset[ratio:, 2:]).reshape(N-ratio, T, 1)\n",
    "\n",
    "# This is the final size of the training dataset\n",
    "X_e.shape"
   ]
  },
  {
   "cell_type": "markdown",
   "id": "3a927179-2413-4713-aebb-032df8285b89",
   "metadata": {},
   "source": [
    "We do the same with the labels. Here we will focus on the diffusion model (e.g. a classification problem). Let's create the labels for both training and test datasets."
   ]
  },
  {
   "cell_type": "code",
   "execution_count": 6,
   "id": "8c138fe9-c489-419f-8a89-1e98c87cf1af",
   "metadata": {},
   "outputs": [],
   "source": [
    "from keras.utils import to_categorical\n",
    "\n",
    "# We first change the label of FBM trajectories from 2 -> 1\n",
    "dataset[dataset[:,0] == 2, 0] = 1\n",
    "# And then we split the labels as we did with the trajectories\n",
    "Y_a = to_categorical(dataset[:ratio, 0])\n",
    "Y_e = to_categorical(dataset[ratio:, 0])\n",
    "\n",
    "# Moreover, let's save the exponents of this trajectories to do some further analysis later.\n",
    "expo_e = dataset[ratio:,1]"
   ]
  },
  {
   "cell_type": "markdown",
   "id": "b99a6c7f-e8c9-47bf-a004-7ccc00e43ab4",
   "metadata": {
    "tags": []
   },
   "source": [
    "## Defining the neural networks\n",
    "Our next step is to define the neural network we will train to predict diffusion models. We will use the architecture presented in our paper, inspired by the LSTM fully convolution network presented in [this paper](https://doi.org/10.1109/ACCESS.2017.2779939). In our case, we change the LSTM layers by a GRU layer. The architecture has the following shape:\n",
    "\n",
    "<center>\n",
    "<img src=\"figures/ml_architecture.png\" alt=\"drawing\" width=\"250\"/>\n",
    "<center>\n",
    "    \n",
    "The following cells define the model. If you want to load "
   ]
  },
  {
   "cell_type": "code",
   "execution_count": 7,
   "id": "e6ea6c28-9401-40d1-91c3-dd498cd98e24",
   "metadata": {},
   "outputs": [],
   "source": [
    "# Models\n",
    "from keras.models import Sequential, Model, load_model\n",
    "# main layers\n",
    "from keras.layers import Dense, Conv1D, Flatten, GRU\n",
    "# other NN utils\n",
    "from keras.layers import Dropout, Concatenate, Input, BatchNormalization\n",
    "# Optimizer\n",
    "from keras.optimizers import Adam"
   ]
  },
  {
   "cell_type": "code",
   "execution_count": 8,
   "id": "00c01d25-cced-48c2-9780-7189ad8edb04",
   "metadata": {},
   "outputs": [
    {
     "name": "stdout",
     "output_type": "stream",
     "text": [
      "Model: \"model\"\n",
      "__________________________________________________________________________________________________\n",
      " Layer (type)                   Output Shape         Param #     Connected to                     \n",
      "==================================================================================================\n",
      " input_2 (InputLayer)           [(None, 30, 1)]      0           []                               \n",
      "                                                                                                  \n",
      " conv1d (Conv1D)                (None, 28, 6)        24          ['input_2[0][0]']                \n",
      "                                                                                                  \n",
      " input_1 (InputLayer)           [(None, 30, 1)]      0           []                               \n",
      "                                                                                                  \n",
      " conv1d_1 (Conv1D)              (None, 24, 6)        186         ['conv1d[0][0]']                 \n",
      "                                                                                                  \n",
      " gru (GRU)                      (None, 30, 3)        54          ['input_1[0][0]']                \n",
      "                                                                                                  \n",
      " conv1d_2 (Conv1D)              (None, 23, 6)        78          ['conv1d_1[0][0]']               \n",
      "                                                                                                  \n",
      " gru_1 (GRU)                    (None, 3)            72          ['gru[0][0]']                    \n",
      "                                                                                                  \n",
      " flatten (Flatten)              (None, 138)          0           ['conv1d_2[0][0]']               \n",
      "                                                                                                  \n",
      " concatenate (Concatenate)      (None, 141)          0           ['gru_1[0][0]',                  \n",
      "                                                                  'flatten[0][0]']                \n",
      "                                                                                                  \n",
      " dense (Dense)                  (None, 128)          18176       ['concatenate[0][0]']            \n",
      "                                                                                                  \n",
      " dropout (Dropout)              (None, 128)          0           ['dense[0][0]']                  \n",
      "                                                                                                  \n",
      " dense_1 (Dense)                (None, 64)           8256        ['dropout[0][0]']                \n",
      "                                                                                                  \n",
      " dropout_1 (Dropout)            (None, 64)           0           ['dense_1[0][0]']                \n",
      "                                                                                                  \n",
      " dense_2 (Dense)                (None, 2)            130         ['dropout_1[0][0]']              \n",
      "                                                                                                  \n",
      "==================================================================================================\n",
      "Total params: 26,976\n",
      "Trainable params: 26,976\n",
      "Non-trainable params: 0\n",
      "__________________________________________________________________________________________________\n"
     ]
    }
   ],
   "source": [
    "# GRU arm (2 GRU layers)\n",
    "input1 = Input(shape=(T,1))\n",
    "x1 = GRU(3, return_sequences=True)(input1)\n",
    "x1 = GRU(3)(x1)\n",
    "\n",
    "\n",
    "# CNN arm (3 CNN layers + flatten layer)\n",
    "input2 = Input(shape=(T, 1))\n",
    "x2 = Conv1D(filters=6, kernel_size=3 ,strides=1,\n",
    "            kernel_initializer= 'uniform',\n",
    "            activation= 'relu')(input2)\n",
    "x2 = Conv1D(filters=6, kernel_size=5 ,strides=1,\n",
    "            kernel_initializer= 'uniform',\n",
    "            activation= 'relu')(x2)\n",
    "x2 = Conv1D(filters=6, kernel_size=2 ,strides=1,\n",
    "            kernel_initializer= 'uniform',\n",
    "            activation= 'relu')(x2)\n",
    "x2 = Flatten()(x2)\n",
    "\n",
    "\n",
    "# Contact and fully connected layer\n",
    "contact = Concatenate()([x1, x2])\n",
    "fc = Dense(128, activation='sigmoid')(contact)\n",
    "fc = Dropout(0.25)(fc)\n",
    "fc = Dense(64, activation='sigmoid')(fc)\n",
    "fc = Dropout(0.25)(fc)\n",
    "out = Dense(len(models), activation='softmax')(fc)\n",
    "\n",
    "# Merge everythin into a model\n",
    "fullyCNN = Model(inputs=[input1, input2], outputs=out)\n",
    "\n",
    "# Define loss and optimizer\n",
    "fullyCNN.compile(loss='kullback_leibler_divergence',\n",
    "                 optimizer=Adam(),\n",
    "                 metrics=['accuracy'])\n",
    "\n",
    "# Let's see a summary of the model\n",
    "fullyCNN.summary()"
   ]
  },
  {
   "cell_type": "markdown",
   "id": "96e263c3-99d7-4220-aa4f-120593bfc992",
   "metadata": {},
   "source": [
    "## Training the Neural Network\n",
    "Now that we have defined both the model and the datasets, we can train the machine. If you don't want to train it, skip this cell and load the pre-trained model you will find in the `ML_trained_models` folder."
   ]
  },
  {
   "cell_type": "code",
   "execution_count": 12,
   "id": "5535b5b2-2c4f-464e-931d-c160fbda35ee",
   "metadata": {
    "collapsed": true,
    "jupyter": {
     "outputs_hidden": true
    },
    "tags": []
   },
   "outputs": [
    {
     "name": "stdout",
     "output_type": "stream",
     "text": [
      "Epoch 1/20\n",
      "83/83 [==============================] - 14s 78ms/step - loss: 0.6818 - accuracy: 0.5799 - val_loss: 0.5674 - val_accuracy: 0.7106\n",
      "Epoch 2/20\n",
      "83/83 [==============================] - 6s 69ms/step - loss: 0.5728 - accuracy: 0.7066 - val_loss: 0.5543 - val_accuracy: 0.7194\n",
      "Epoch 3/20\n",
      "83/83 [==============================] - 5s 59ms/step - loss: 0.5568 - accuracy: 0.7185 - val_loss: 0.5441 - val_accuracy: 0.7247\n",
      "Epoch 4/20\n",
      "83/83 [==============================] - 5s 58ms/step - loss: 0.5435 - accuracy: 0.7275 - val_loss: 0.5320 - val_accuracy: 0.7361\n",
      "Epoch 5/20\n",
      "83/83 [==============================] - 5s 58ms/step - loss: 0.5319 - accuracy: 0.7378 - val_loss: 0.5236 - val_accuracy: 0.7401\n",
      "Epoch 6/20\n",
      "83/83 [==============================] - 5s 58ms/step - loss: 0.5239 - accuracy: 0.7404 - val_loss: 0.5153 - val_accuracy: 0.7492\n",
      "Epoch 7/20\n",
      "83/83 [==============================] - 5s 57ms/step - loss: 0.5117 - accuracy: 0.7518 - val_loss: 0.5034 - val_accuracy: 0.7546\n",
      "Epoch 8/20\n",
      "83/83 [==============================] - 5s 58ms/step - loss: 0.5000 - accuracy: 0.7595 - val_loss: 0.4938 - val_accuracy: 0.7619\n",
      "Epoch 9/20\n",
      "83/83 [==============================] - 5s 58ms/step - loss: 0.4896 - accuracy: 0.7670 - val_loss: 0.4882 - val_accuracy: 0.7640\n",
      "Epoch 10/20\n",
      "83/83 [==============================] - 5s 58ms/step - loss: 0.4827 - accuracy: 0.7684 - val_loss: 0.4796 - val_accuracy: 0.7681\n",
      "Epoch 11/20\n",
      "83/83 [==============================] - 5s 58ms/step - loss: 0.4753 - accuracy: 0.7738 - val_loss: 0.4707 - val_accuracy: 0.7744\n",
      "Epoch 12/20\n",
      "83/83 [==============================] - 5s 59ms/step - loss: 0.4683 - accuracy: 0.7759 - val_loss: 0.4655 - val_accuracy: 0.7704\n",
      "Epoch 13/20\n",
      "83/83 [==============================] - 5s 58ms/step - loss: 0.4617 - accuracy: 0.7819 - val_loss: 0.4575 - val_accuracy: 0.7753\n",
      "Epoch 14/20\n",
      "83/83 [==============================] - 5s 59ms/step - loss: 0.4569 - accuracy: 0.7815 - val_loss: 0.4563 - val_accuracy: 0.7799\n",
      "Epoch 15/20\n",
      "83/83 [==============================] - 5s 58ms/step - loss: 0.4533 - accuracy: 0.7841 - val_loss: 0.4489 - val_accuracy: 0.7797\n",
      "Epoch 16/20\n",
      "83/83 [==============================] - 5s 58ms/step - loss: 0.4478 - accuracy: 0.7865 - val_loss: 0.4430 - val_accuracy: 0.7829\n",
      "Epoch 17/20\n",
      "83/83 [==============================] - 5s 58ms/step - loss: 0.4469 - accuracy: 0.7860 - val_loss: 0.4470 - val_accuracy: 0.7829\n",
      "Epoch 18/20\n",
      "83/83 [==============================] - 5s 66ms/step - loss: 0.4432 - accuracy: 0.7880 - val_loss: 0.4413 - val_accuracy: 0.7819\n",
      "Epoch 19/20\n",
      "83/83 [==============================] - 5s 66ms/step - loss: 0.4414 - accuracy: 0.7878 - val_loss: 0.4378 - val_accuracy: 0.7851\n",
      "Epoch 20/20\n",
      "83/83 [==============================] - 5s 58ms/step - loss: 0.4382 - accuracy: 0.7886 - val_loss: 0.4350 - val_accuracy: 0.7853\n"
     ]
    }
   ],
   "source": [
    "batch_size = 350\n",
    "epochs = 20\n",
    "\n",
    "history = fullyCNN.fit([X_a, X_a], Y_a,\n",
    "                    batch_size=batch_size,\n",
    "                    epochs=epochs,\n",
    "                    verbose=1,\n",
    "                    validation_data=([X_e, X_e], Y_e))"
   ]
  },
  {
   "cell_type": "markdown",
   "id": "e4344529-a4d2-482e-b745-b55b7e51a1f8",
   "metadata": {},
   "source": [
    "In case you want to load a pre-trained model:\n"
   ]
  },
  {
   "cell_type": "code",
   "execution_count": null,
   "id": "5300c13b-8984-4f36-adb9-d5580888512e",
   "metadata": {},
   "outputs": [],
   "source": [
    "path_model = 'ML_trained_models/fullyCNN_models_Tmax=30.h5'\n",
    "fullyCNN.load("
   ]
  },
  {
   "cell_type": "markdown",
   "id": "6c114e32-75a5-4591-a272-7cca14d2a8f1",
   "metadata": {},
   "source": [
    "In case you want to save your recently trained model:"
   ]
  },
  {
   "cell_type": "code",
   "execution_count": 26,
   "id": "bda45a72-f5f7-4eb7-85d5-c997158b7dbb",
   "metadata": {},
   "outputs": [],
   "source": [
    "path_model = 'ML_trained_models/fullyCNN_models_Tmax=30.h5'\n",
    "fullyCNN.save(path_model)"
   ]
  },
  {
   "cell_type": "markdown",
   "id": "4a231f2f-4500-451a-8c2c-99ef5f3145a9",
   "metadata": {},
   "source": [
    "### Benchmark"
   ]
  },
  {
   "cell_type": "markdown",
   "id": "fbacf634-7e28-420c-bffe-4248a94ada4b",
   "metadata": {},
   "source": [
    "We can check the performance of the model by calculating the f1-score and the confusion matrix of the model with respect to the test set (as done in the supplementary figure S5 A):"
   ]
  },
  {
   "cell_type": "code",
   "execution_count": 20,
   "id": "a099a598-0e02-4820-bd5a-89f90bc16294",
   "metadata": {},
   "outputs": [
    {
     "name": "stdout",
     "output_type": "stream",
     "text": [
      "225/225 [==============================] - 2s 9ms/step\n"
     ]
    }
   ],
   "source": [
    "from sklearn.metrics import confusion_matrix, f1_score\n",
    "true = np.argmax(Y_e, axis = 1)\n",
    "pred = np.argmax(fullyCNN.predict([X_e, X_e]), axis = 1)\n",
    "\n",
    "conf = confusion_matrix(true, pred)/(X_e.shape[0]/2)\n",
    "f1 = f1_score(true, pred)"
   ]
  },
  {
   "cell_type": "code",
   "execution_count": 24,
   "id": "85c21c09-da0a-4278-a00c-37aca7e57f23",
   "metadata": {},
   "outputs": [
    {
     "data": {
      "image/png": "[encoded data removed]",
      "text/plain": [
       "<Figure size 360x360 with 1 Axes>"
      ]
     },
     "metadata": {
      "needs_background": "light"
     },
     "output_type": "display_data"
    }
   ],
   "source": [
    "fig, ax= plt.subplots(figsize = (5,5))\n",
    "ax.matshow(conf, cmap = 'plasma')\n",
    "for (i, j), z in np.ndenumerate(conf):\n",
    "    if i == j:\n",
    "        c = 'k'\n",
    "    else:\n",
    "        c = 'w'\n",
    "            \n",
    "    ax.text(j, i, '{:0.3f}'.format(z), ha='center', va='center', fontsize = 16, color = c)\n",
    "plt.setp(ax,\n",
    "         xticks = [0, 1], xticklabels = ['ATTM', 'FBM'],\n",
    "         yticks = [0, 1], yticklabels = ['ATTM', 'FBM'],\n",
    "         xlabel = 'Groundtruth', ylabel = 'Predicted class',\n",
    "         title = f'F1-score = {round(f1,3)}')\n",
    "ax.xaxis.set_ticks_position('bottom') "
   ]
  },
  {
   "cell_type": "markdown",
   "id": "a2da2092-4dfd-464a-90c9-3215e80935ff",
   "metadata": {},
   "source": [
    "Similarly, we can check the error made by a model trained to predict the anomalous exponent $\\alpha$. In this case, we will directly load a pre-trained model and calculate the prediction error made for trajectories from all models together and separatedly (as done in Supplementary Figure S5 B). First we load the model. In this case we will use a model which has no CNN layers, just the GRU arm (see figure above)"
   ]
  },
  {
   "cell_type": "code",
   "execution_count": 28,
   "id": "8de3574d-4636-4605-9682-de18cb4c3fc0",
   "metadata": {},
   "outputs": [],
   "source": [
    "model_exp = load_model('ML_trained_models/GRU_exponents_fbm_alpha=0.05-0.1_Tmax=30.h5')"
   ]
  },
  {
   "cell_type": "markdown",
   "id": "1dc66c51-fddb-489d-9032-63cf7db1f629",
   "metadata": {},
   "source": [
    "We now generate separatedly two datasets, one per model (i.e. ATTM and FBM). This way we can see the effect on the prediction as a function of the model. "
   ]
  },
  {
   "cell_type": "code",
   "execution_count": 31,
   "id": "521c56a9-11b9-4bb4-9b32-98a7def03b47",
   "metadata": {},
   "outputs": [
    {
     "name": "stdout",
     "output_type": "stream",
     "text": [
      "563/563 [==============================] - 10s 16ms/step\n",
      "563/563 [==============================] - 9s 16ms/step\n"
     ]
    }
   ],
   "source": [
    "N = 1000; T = 30; exponents = np.arange(0.1,1,0.05)\n",
    "\n",
    "dif = np.zeros((2, N*len(exponents)))\n",
    "\n",
    "for idx, model in enumerate([2, 0]):\n",
    "    dataset = DT().create_dataset(T = T, N_models = N, exponents = exponents, models = [model], \n",
    "                                  load_trajectories = True, path = path,)\n",
    "    np.random.shuffle(dataset)\n",
    "    X_e = normalize(dataset[:, 2:]).reshape(dataset.shape[0], dataset.shape[1]-2, 1)\n",
    "    Y_e = dataset[:, 1]\n",
    "    \n",
    "    expo_p = model_exp.predict(X_e)#[X_e, X_e])\n",
    "    dif[idx] = (expo_p.flatten()-Y_e)"
   ]
  },
  {
   "cell_type": "code",
   "execution_count": null,
   "id": "030f67f8-2718-4138-ab7c-77376dd3d902",
   "metadata": {},
   "outputs": [],
   "source": []
  },
  {
   "cell_type": "markdown",
   "id": "92cd8f69-4d3c-41d4-b72b-03beb06b6694",
   "metadata": {},
   "source": [
    "We can see the mean absolute error made for each model. As it is expected, the predictions over ATTM are much worse, as explained in the manuscript and many of its references:"
   ]
  },
  {
   "cell_type": "code",
   "execution_count": 34,
   "id": "5a08b6db-83e7-46a3-b370-e9c06a862481",
   "metadata": {},
   "outputs": [
    {
     "name": "stdout",
     "output_type": "stream",
     "text": [
      "FBM : MAE = 0.134\n",
      "ATTM : MAE = 0.32\n"
     ]
    }
   ],
   "source": [
    "for mod, error in zip(['FBM','ATTM'], np.abs(dif).mean(1)):\n",
    "    print(mod, f': MAE = {np.round(error,3)}')"
   ]
  },
  {
   "cell_type": "markdown",
   "id": "3b799ae0-4ab0-4d18-9ce9-4114774e25c8",
   "metadata": {},
   "source": [
    "We can further investigate this by plotting an histogram of the prediction error:"
   ]
  },
  {
   "cell_type": "code",
   "execution_count": 35,
   "id": "9d502255-d6e6-4578-aacf-272ed7638c5a",
   "metadata": {},
   "outputs": [
    {
     "data": {
      "image/png": "[encoded data removed]",
      "text/plain": [
       "<Figure size 360x360 with 1 Axes>"
      ]
     },
     "metadata": {
      "needs_background": "light"
     },
     "output_type": "display_data"
    }
   ],
   "source": [
    "fig, ax = plt.subplots(figsize = (5,5))\n",
    "plasma = plt.cm.get_cmap('plasma', 21)\n",
    "newcolors = plasma([0,17])\n",
    "\n",
    "ax.hist(dif.flatten(), bins = 100, alpha = 0.5, label = 'Both models', color = 'k', zorder = -1);\n",
    "for d, lab, c, order in zip(dif, ['FBM', 'ATTM'], [newcolors[1], newcolors[0]], [2,1]):\n",
    "    ax.hist(d, alpha = 0.6, bins = 100, label = lab, color = c, zorder = order)\n",
    "plt.setp(ax, xlabel = r'Error', ylabel = 'Frequency')\n",
    "ax.legend()\n",
    "ax.grid(alpha = 0.3)"
   ]
  },
  {
   "cell_type": "markdown",
   "id": "bbe54421-e0ab-44f3-8e3d-b249c9859d15",
   "metadata": {},
   "source": [
    "# Analyzing experimental data\n",
    "The section should have convinced you on the suitability of the use of ML for the analysis of anomalous diffusion trajectories. If you are still unconvinced, you can check [this reference](https://doi.org/10.1038/s41467-021-26320-w), where even more powerful ML models have been presented. We will now apply this models to the experimental trajectories presented in our paper. Check the manuscript for details.\n",
    "\n",
    "We consider here trajectories at 6 different hormone concentrations:"
   ]
  },
  {
   "cell_type": "code",
   "execution_count": 41,
   "id": "fb4606b0-546c-481c-a31a-767dfe741d3c",
   "metadata": {},
   "outputs": [],
   "source": [
    "import scipy.io\n",
    "file = scipy.io.loadmat('experimental_data/Trajectories_PR.mat')\n",
    "name_experiment = ['Trajectories_EtOH', 'Trajectories_1pM', 'Trajectories_10pM',\n",
    "                   'Trajectories_100pM', 'Trajectories_1nM', 'Trajectories_10nM']"
   ]
  },
  {
   "cell_type": "markdown",
   "id": "e117521c-c15d-438f-8ae0-52dc087f129a",
   "metadata": {},
   "source": [
    "## Diffusion model "
   ]
  },
  {
   "cell_type": "markdown",
   "id": "44de2721-333c-41cb-be46-2672e7d3046b",
   "metadata": {},
   "source": [
    "We will reproduce now Figure 2 B from our paper. For that, we will calculate the diffusion coefficient of each trajectories (by means of the `andi-dataset` library) and then predict the model for each trajectory with the model trained above. "
   ]
  },
  {
   "cell_type": "code",
   "execution_count": 61,
   "id": "d796351f-fc49-4e83-91c0-260dc95a47e8",
   "metadata": {},
   "outputs": [
    {
     "data": {
      "text/plain": [
       "''"
      ]
     },
     "execution_count": 61,
     "metadata": {},
     "output_type": "execute_result"
    },
    {
     "data": {
      "image/png": "[encoded data removed]",
      "text/plain": [
       "<Figure size 648x432 with 6 Axes>"
      ]
     },
     "metadata": {
      "needs_background": "light"
     },
     "output_type": "display_data"
    }
   ],
   "source": [
    "from utils import *\n",
    "from andi_datasets.analysis import msd_analysis\n",
    "plasma = plt.cm.get_cmap('plasma', 21)\n",
    "newcolors = plasma([0,17])\n",
    "\n",
    "fig, axs = plt.subplots(2, 3, constrained_layout=True, figsize = (9, 6))\n",
    "\n",
    "perc_attm, perc_fbm = [],[]\n",
    "for idx,(name, ax) in enumerate(zip(name_experiment, axs.flatten())):  \n",
    "    \n",
    "    # Loading and managing trajs\n",
    "    trajs = file_to_np_cut(file[name], T)\n",
    "    D = diff_coeff(trajs)\n",
    "    \n",
    "    trajs_n = normalize(trajs).reshape(trajs.shape[0], T, 1)\n",
    "    \n",
    "    mod = np.argmax(fullyCNN.predict([trajs_n, trajs_n], verbose=0), axis = 1)\n",
    "    \n",
    "    ########## Model classsication ##############    \n",
    "    attm_pop = np.array(D)[mod == 0]\n",
    "    fbm_pop = np.array(D)[mod == 1]\n",
    "    # weights\n",
    "    w_a = np.ones_like(attm_pop)/float(len(trajs_n))\n",
    "    w_f = np.ones_like(fbm_pop)/float(len(trajs_n))\n",
    "    \n",
    "    # % of trajectories   \n",
    "    perc_attm.append(len(mod[mod == 0])/len(mod))\n",
    "    perc_fbm.append(len(mod[mod == 1])/len(mod))\n",
    "    \n",
    "    ax.hist(np.log(attm_pop), bins = 30, alpha = 0.7, label = 'ATTM', facecolor = newcolors[0], weights = w_a)  \n",
    "    ax.hist(np.log(fbm_pop), bins = 30, label = r'FBM', facecolor = newcolors[1], alpha = 0.7, weights = w_f) \n",
    "    ax.set_title(name[13:])\n",
    "    \n",
    "plt.setp(axs, xlabel = r'$\\log(D)$', xlim = [-10, 2]);\n",
    "plt.setp(axs[:, 0], ylabel = 'Frequency')\n",
    ";"
   ]
  },
  {
   "cell_type": "markdown",
   "id": "fd802183-9bce-4cb8-8598-a946d4b4506c",
   "metadata": {},
   "source": [
    "From the previous calculations we can reproduce Figure 2 A, namely, the percentage of particles associated to each diffusion model. Note that, depending on the training of you machine, the result can slightly vary from the one presented in the paper. Nonetheless, qualitatively we always get the same result."
   ]
  },
  {
   "cell_type": "code",
   "execution_count": 63,
   "id": "aa5da84a-b0b7-434e-a563-4582051615aa",
   "metadata": {},
   "outputs": [
    {
     "name": "stderr",
     "output_type": "stream",
     "text": [
      "C:\\Users\\User\\AppData\\Local\\Temp/ipykernel_11548/1922368598.py:20: UserWarning: FixedFormatter should only be used together with FixedLocator\n",
      "  ax.set_xticklabels(labels);\n"
     ]
    },
    {
     "data": {
      "text/plain": [
       "Text(0.5, 0, 'Hormone concentration (log(M))')"
      ]
     },
     "execution_count": 63,
     "metadata": {},
     "output_type": "execute_result"
    },
    {
     "data": {
      "image/png": "[encoded data removed]",
      "text/plain": [
       "<Figure size 432x288 with 1 Axes>"
      ]
     },
     "metadata": {
      "needs_background": "light"
     },
     "output_type": "display_data"
    }
   ],
   "source": [
    "fig, ax = plt.subplots()\n",
    "conc = np.arange(-13, -7, 1)\n",
    "\n",
    "for C in conc:\n",
    "    ax.axvline(C, ls = '--', c = 'k', alpha = 0.3)\n",
    "ax.plot(conc, perc_attm, '-o', label = 'ATTM', c = newcolors[0])\n",
    "ax.plot(conc, perc_fbm, '-o', label = 'FBM', c = newcolors[1])\n",
    "\n",
    "\n",
    "err_attm = np.ones_like(conc)*perc_attm*conf[0,1]\n",
    "err_fbm = np.ones_like(conc)*perc_fbm*conf[1,0]\n",
    "\n",
    "ax.fill_between(conc, perc_attm-err_attm, perc_attm+err_fbm, color=newcolors[0], alpha=0.1)\n",
    "ax.fill_between(conc, perc_fbm-err_fbm, perc_fbm+err_attm, color=newcolors[1], alpha=0.1)\n",
    "\n",
    "ax.legend()\n",
    "\n",
    "labels = ax.get_xticks().tolist()\n",
    "labels[1] = 'EtOH'\n",
    "ax.set_xticklabels(labels);\n",
    "ax.set_ylabel('% of trajectories', fontsize = 12)\n",
    "ax.xaxis.set_label_position('top') \n",
    "ax.set_xlabel('Hormone concentration (log(M))', fontsize = 18)"
   ]
  },
  {
   "cell_type": "markdown",
   "id": "fc4540b2-18a3-4f1c-9ffa-ec8f35481723",
   "metadata": {},
   "source": [
    "## Anomalous exponent "
   ]
  },
  {
   "cell_type": "markdown",
   "id": "56e67afe-8307-49a9-8a6d-da2752ab1773",
   "metadata": {},
   "source": [
    "Finally, we can now predict the anomalous exponent of the experimental trajectories and use that information to reproduce Figure 2 C from our paper:"
   ]
  },
  {
   "cell_type": "code",
   "execution_count": 73,
   "id": "4f149e0f-ac93-4fce-a13a-08fe2e4420d2",
   "metadata": {},
   "outputs": [
    {
     "data": {
      "text/plain": [
       "[Text(0, 0.5, 'Frequency'), Text(0, 0.5, 'Frequency')]"
      ]
     },
     "execution_count": 73,
     "metadata": {},
     "output_type": "execute_result"
    },
    {
     "data": {
      "image/png": "[encoded data removed]",
      "text/plain": [
       "<Figure size 648x432 with 6 Axes>"
      ]
     },
     "metadata": {
      "needs_background": "light"
     },
     "output_type": "display_data"
    }
   ],
   "source": [
    "fully_m = False #True\n",
    "fully_e = False\n",
    "T_m = 30\n",
    "T_e = 30\n",
    "\n",
    "plasma = plt.cm.get_cmap('plasma', 21)\n",
    "newcolors = plasma([0,17])\n",
    "# newcmp = ListedColormap(newcolors)\n",
    "\n",
    "conc = np.array([-13, -12, -11, -10, -9, -8])\n",
    "\n",
    "fig, axs = plt.subplots(2, 3, constrained_layout=True, figsize = (9, 6))\n",
    "\n",
    "\n",
    "for idx,(name, ax) in enumerate(zip(name_experiment, axs.flatten())): \n",
    "    \n",
    "    # Loading and managing trajs\n",
    "    trajs = file_to_np_cut(file[name], T)\n",
    "    D = diff_coeff(trajs)\n",
    "    \n",
    "    trajs = normalize(trajs).reshape(trajs.shape[0], T, 1)\n",
    "    # Predictions\n",
    "    exp = model_exp.predict(trajs, verbose = 0)\n",
    "    mod = np.argmax(fullyCNN.predict([trajs, trajs], verbose = 0), axis = 1)\n",
    "    \n",
    "        \n",
    "    attm_pop = np.array(D)[mod == 0]\n",
    "    fbm_pop = np.array(D)[mod == 1]\n",
    "    # weights\n",
    "    w_a = np.ones_like(attm_pop)/float(len(trajs))\n",
    "    w_f = np.ones_like(fbm_pop)/float(len(trajs))\n",
    "    \n",
    "    ########## Anomalous exponent ##############  \n",
    "    expa = exp[mod == 0]\n",
    "    expf = exp[mod == 1]\n",
    "    \n",
    "    ma = np.mean(expa)\n",
    "    mf = np.mean(expf)\n",
    "    \n",
    "    \n",
    "    ax.hist(expa, alpha = 0.7, label = r'$\\left < \\alpha_{attm} \\right >$ = '+str(round(ma, 2)), bins = 30, facecolor = newcolors[0], weights = w_a)\n",
    "    ax.hist(expf, alpha = 0.7, label = r'$\\left < \\alpha_{fbm} \\right >$ = '+str(round(mf, 2)), bins = 30, facecolor = newcolors[1], weights = w_f)\n",
    "    ax.set_title(name[13:])\n",
    "    ax.legend()\n",
    "\n",
    "plt.setp(axs, xlabel = r'$\\alpha$', xlim = [0, 1]);\n",
    "plt.setp(axs[:, 0], ylabel = 'Frequency')"
   ]
  }
 ],
 "metadata": {
  "kernelspec": {
   "display_name": "Python 3",
   "language": "python",
   "name": "python3"
  },
  "language_info": {
   "codemirror_mode": {
    "name": "ipython",
    "version": 3
   },
   "file_extension": ".py",
   "mimetype": "text/x-python",
   "name": "python",
   "nbconvert_exporter": "python",
   "pygments_lexer": "ipython3",
   "version": "3.8.8"
  }
 },
 "nbformat": 4,
 "nbformat_minor": 5
}
