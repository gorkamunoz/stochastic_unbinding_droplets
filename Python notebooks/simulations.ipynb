{
 "cells": [
  {
   "cell_type": "markdown",
   "id": "9074f321-e35e-4680-949c-3ce03aadc946",
   "metadata": {},
   "source": [
    "# Simulating the stochastic unbinding mechanism\n",
    "In this notebook we present a simulation scheme to model the stochastic unbinding of PR molecules as proposed in our paper. "
   ]
  },
  {
   "cell_type": "markdown",
   "id": "91c31447-5a2e-490f-83c9-7269ce6560f9",
   "metadata": {},
   "source": [
    "### Unbinding mechanism\n",
    "One of the main results from our paper is that an stochastic unbinding of particles in the context of Brownian motion coalescence can lead to an arrest in the droplets growth. We begin the construction of our simulation functions by defining the unbinding mechanism. In summary, if a droplet contains more than one particle, then its components have a probability $P_u$ of unbinding."
   ]
  },
  {
   "cell_type": "code",
   "execution_count": 1,
   "id": "3f8447f3-5394-4aa1-9751-b62b9bbe7533",
   "metadata": {},
   "outputs": [],
   "source": [
    "import numpy as np\n",
    "\n",
    "def escaping_mechanism(label, x, droplet_size,\n",
    "                       Pu,\n",
    "                       kick, kick_size, surface):\n",
    "    ''' This function gets as input the labels of each particles or droplet. If the droplet has more than \n",
    "    one particle, we simulates the stochastic unbinding of its components. \n",
    "    Args:\n",
    "        :label (array): array containing the label of each particles / droplet. The label is unique for each\n",
    "        and is used to control the binding / unbinding of particles. Here, if a particle escapes from a droplet,\n",
    "        it is given a new label: the maximum current label + 1.\n",
    "        :x (array): position of the particles. In case of unbinding, this is updated with or without kick (see \n",
    "        below).\n",
    "        :droplet_size (array): size of each of the particles / droplets.\n",
    "        :Pu (float): unbinding probability.\n",
    "        :kick (bool): if True, when particles unbind, they get kicked to avoid\n",
    "                      re-binding).\n",
    "        :kick_size (float): size of the kick.\n",
    "        :surface (bool): If surface = True, only the particles in the surface of the \n",
    "                         droplet can escape. If False, any particle can escape (see SI\n",
    "                         of our paper for details).\n",
    "    Return:\n",
    "        :new_label (array): updated labels for each particle / droplet after unbinding.\n",
    "        :upd_x (array): update positions.\n",
    "        :new_droplet_size (array): updated droplet_size.\n",
    "    \n",
    "    '''\n",
    "    \n",
    "    new_label = label.copy()\n",
    "    upd_x = x.copy()\n",
    "    new_droplet_size = droplet_size.copy()\n",
    "    \n",
    "    for l in label:\n",
    "        if new_droplet_size[l]>1:\n",
    "            # Get the number of particles in the droplet\n",
    "            num_parts = round(new_droplet_size[l]**2)\n",
    "\n",
    "            # Chose the mechanism of escaping. If surface = True, only\n",
    "            # the particles in the surface of the droplet can escape. If\n",
    "            # False, any particle can escape (see SI of our paper for details)\n",
    "            if surface:\n",
    "                surface_parts = min(num_parts, np.pi*np.sqrt(num_parts))\n",
    "                coins = np.random.rand(int(surface_parts-1))                  \n",
    "                escaped = len(coins[coins > Pu])\n",
    "            else:\n",
    "                coins = np.random.rand(int(num_parts-1))                  \n",
    "                escaped = len(coins[coins > Pu])\n",
    "\n",
    "            # Substracting escaped to the droplet size\n",
    "            new_droplet_size[l] = np.sqrt(num_parts - escaped)\n",
    "            # Heralding escaped with -1 label to avoid binding later\n",
    "            new_droplet_size = np.append(new_droplet_size, np.ones(escaped))\n",
    "            new_label = np.append(new_label, np.arange(escaped)+new_label[-1]+1)\n",
    "\n",
    "            # Adding new independent positions for escaped particles. If kick = True,\n",
    "            # particles receive a kick that move them away from the condensate, to \n",
    "            # further avoid re-binding in following steps\n",
    "            if kick and escaped > 0:\n",
    "                angle = np.random.rand(escaped)*2*np.pi\n",
    "                news = np.vstack(x[l,0]+(np.cos(angle)*(new_droplet_size[l]+kick_size), # X component\n",
    "                                 x[l,1]+np.sin(angle)*(new_droplet_size[l]+kick_size))).transpose() # Y component\n",
    "                upd_x = np.vstack((upd_x,news))\n",
    "            else:                    \n",
    "                news = upd_x[l,:].repeat(escaped, axis = 0).reshape(2,escaped).transpose()\n",
    "                upd_x = np.vstack((upd_x,news))\n",
    "                \n",
    "    return new_label, upd_x, new_droplet_size"
   ]
  },
  {
   "cell_type": "markdown",
   "id": "9ee35a18-5308-4d88-80cc-a449476c5727",
   "metadata": {},
   "source": [
    "## Time evolution\n",
    "Below is the main function for the temporal evolution of a systems performing a BMC process with the stochastic unbinding presented in our paper and defined in the previous function. "
   ]
  },
  {
   "cell_type": "code",
   "execution_count": 2,
   "id": "79c3b277-49e0-47ad-9fac-7ddb60de5e0f",
   "metadata": {
    "tags": []
   },
   "outputs": [],
   "source": [
    "from tqdm.auto import tqdm\n",
    "\n",
    "def stochastic_unbinding(N, T, r, L,\n",
    "                         D, Pu = 1,\n",
    "                         kick = False, kick_size = 0,\n",
    "                         surface = False):\n",
    "    ''' This functions performs the simulation of a Brownian Motion Coalescence mechanism\n",
    "    with stochastic unbinding of its particles. Particles inside the condensate will always\n",
    "    bind with probability 1, while they have probability Pu of unbinding\n",
    "    \n",
    "    Args:\n",
    "        :N (int): number of particles.\n",
    "        :T (int): number of time steps of the simulation.\n",
    "        :r (float): size of single particles.\n",
    "        :L (float): size of the box acting as the environment (periodic boundary \n",
    "                    conditions apply).\n",
    "        :D (float): diffusion coefficient of free particles.\n",
    "        :kick (bool): see function escaping_mechanism\n",
    "        :kick_size (float): see function escaping_mechanism\n",
    "        :surface (bool): see function escaping_mechanism\n",
    "    Returns:\n",
    "        :dist_droplet_size (list): list containing the distribution of droplet size at \n",
    "                                   each time step.\n",
    "        :mean_droplet_size (array): array containing the mean size of the droplets at \n",
    "                                    each time step.\n",
    "    '''\n",
    "    \n",
    "\n",
    "    ### Initial positions and droplet sizes (all free particles)\n",
    "    x = np.random.rand(N, 2)*L    \n",
    "    droplet_size = np.ones(N)\n",
    "\n",
    "    ### Variables for saving data\n",
    "    dist_droplet_size = []\n",
    "    mean_droplet_size = np.ones(T)*N  \n",
    "\n",
    "    ### Evolution ####\n",
    "    for t in (range(T)):\n",
    "        \n",
    "        label = np.arange(x.shape[0])\n",
    "        max_label = label[-1]\n",
    "\n",
    "        ### Updating labels and positions after unbinding\n",
    "        label, x, droplet_size = escaping_mechanism(label, x, droplet_size,\n",
    "                                      Pu,\n",
    "                                      kick, kick_size, surface)\n",
    "\n",
    "        ### Calculating distances between particles\n",
    "        M = np.reshape(np.repeat(x[ :, :], x.shape[0], axis = 0), (x.shape[0], x.shape[0], 2))\n",
    "        Mtrans = M.transpose(1,0,2)\n",
    "        distance = np.sqrt(np.square(M[:,:, 0]-Mtrans[:,:, 0])\n",
    "                         + np.square(M[:,:, 1]-Mtrans[:,:, 1]))  \n",
    "        # Increasing artificially distance of escaped to avoid re-binding \n",
    "        distance[label > max_label, :] = 2*L\n",
    "        distance[:, label > max_label] = 2*L  \n",
    "\n",
    "        ### Creating droplets ###\n",
    "        for n, s in enumerate(droplet_size[:max_label+1]):\n",
    "            distances_adapted = distance[n,:]-droplet_size\n",
    "            distances_adapted[n] == 0\n",
    "            close_particles = np.argwhere(distances_adapted < s*r).flatten()\n",
    "            # Update the label to the one of first particle in condensate\n",
    "            label[distance[n,:] < s*r] = label[n]\n",
    "            \n",
    "\n",
    "        ### Merging droplets\n",
    "        u_labels = np.unique(label)\n",
    "        new_droplet_size = np.zeros(len(u_labels))\n",
    "        avg_pos = np.zeros((len(u_labels), 2)) \n",
    "        for idx_c, l in enumerate(u_labels):\n",
    "            # Find the particles sharing label (i.e. in same droplet)\n",
    "            parts_in_cond = x[label == l, :]\n",
    "            size_in_cond = droplet_size[label == l]\n",
    "            # Define position of droplet as the center of mass between all\n",
    "            # the constituents\n",
    "            avg_pos[idx_c, :] = np.mean(parts_in_cond, axis = 0)   \n",
    "            # Recalculate its size\n",
    "            new_droplet_size[idx_c] =  np.sqrt(np.sum(size_in_cond**2))\n",
    "\n",
    "        ### Droplet displacement\n",
    "        disp = D*np.random.randn(avg_pos.shape[0],2)                \n",
    "        # Adding displacement considering stokes drag\n",
    "        new_x = avg_pos + (disp.transpose()*(1/new_droplet_size)).transpose()\n",
    "\n",
    "        \n",
    "        ### Saving data for anaylysis\n",
    "        dist_droplet_size.append(new_droplet_size) \n",
    "        mean_droplet_size[t] = np.mean(new_droplet_size)\n",
    "        \n",
    "        ### Updating position, sizes and consider periodic boundary conditions\n",
    "        x = new_x\n",
    "        droplet_size = new_droplet_size\n",
    "        while np.max(x)>L or np.min(x)< 0: \n",
    "            x[x > L] = x[x > L]-L\n",
    "            x[x < 0] = L + x[x < 0]  \n",
    "\n",
    "               \n",
    "    \n",
    "    return mean_droplet_size, dist_droplet_size\n",
    "    "
   ]
  },
  {
   "cell_type": "markdown",
   "id": "e88ae3a0-9074-4102-9fdd-f370e03d9e42",
   "metadata": {},
   "source": [
    "## Results with small numbers of particles\n",
    "We now showcase some of the results that can be achieved with the previous function. Note that, for the sake of not spending hours calculating, we will consider a small number of particles and short times. This means that the scalings will difer from the ones calculated in the paper, as we will suffer from finite size effects."
   ]
  },
  {
   "cell_type": "code",
   "execution_count": 3,
   "id": "986311ea-1a57-44e8-88ae-9cfbfbbf3a26",
   "metadata": {},
   "outputs": [],
   "source": [
    "N = 15         # Number of particles\n",
    "r = 1          # Radius of interaction\n",
    "T = int(1e2)   # Length of simulations\n",
    "S = N/0.05     # Total area, calculate as function of density\n",
    "L = np.sqrt(S) # Length of the environment box\n",
    "D = 1          # Diffusion coefficient of particles\n",
    "\n",
    "reps = 36      # Number of repetitions\n",
    "\n",
    "# We will sweap over various unbinding probabilities to see their effect on the BMC process.\n",
    "Pus = np.append(1-np.logspace(-1, -3, 5), 1)"
   ]
  },
  {
   "cell_type": "markdown",
   "id": "6a1ca3a1-948d-4917-9336-a353a7d5eba7",
   "metadata": {},
   "source": [
    "Now let's simulate the system. To speed things up, we will use the `joblib` library to parallelize the simulations. Depending on your compuational capabilities, you may want to increase the number of repetitions, length of the simulation or the number of particles in the system. "
   ]
  },
  {
   "cell_type": "code",
   "execution_count": 4,
   "id": "360366d5-457d-4223-b4ad-d2a33c1fd8f7",
   "metadata": {},
   "outputs": [
    {
     "data": {
      "application/vnd.jupyter.widget-view+json": {
       "model_id": "51a4cdae41c2489fa0725294a9185917",
       "version_major": 2,
       "version_minor": 0
      },
      "text/plain": [
       "  0%|          | 0/6 [00:00<?, ?it/s]"
      ]
     },
     "metadata": {},
     "output_type": "display_data"
    },
    {
     "data": {
      "application/vnd.jupyter.widget-view+json": {
       "model_id": "734c97ba170f4b1d990db1e4547e5962",
       "version_major": 2,
       "version_minor": 0
      },
      "text/plain": [
       "  0%|          | 0/36 [00:00<?, ?it/s]"
      ]
     },
     "metadata": {},
     "output_type": "display_data"
    },
    {
     "data": {
      "application/vnd.jupyter.widget-view+json": {
       "model_id": "9207bd29f5cb4e9c88a881cda9890186",
       "version_major": 2,
       "version_minor": 0
      },
      "text/plain": [
       "  0%|          | 0/36 [00:00<?, ?it/s]"
      ]
     },
     "metadata": {},
     "output_type": "display_data"
    },
    {
     "data": {
      "application/vnd.jupyter.widget-view+json": {
       "model_id": "d57d579b41f146baae436482b1b1c80b",
       "version_major": 2,
       "version_minor": 0
      },
      "text/plain": [
       "  0%|          | 0/36 [00:00<?, ?it/s]"
      ]
     },
     "metadata": {},
     "output_type": "display_data"
    },
    {
     "data": {
      "application/vnd.jupyter.widget-view+json": {
       "model_id": "25049fe98fc146eb960ef8be41ac0c1b",
       "version_major": 2,
       "version_minor": 0
      },
      "text/plain": [
       "  0%|          | 0/36 [00:00<?, ?it/s]"
      ]
     },
     "metadata": {},
     "output_type": "display_data"
    },
    {
     "data": {
      "application/vnd.jupyter.widget-view+json": {
       "model_id": "7c994c18f3124de988a9d9081c7182c9",
       "version_major": 2,
       "version_minor": 0
      },
      "text/plain": [
       "  0%|          | 0/36 [00:00<?, ?it/s]"
      ]
     },
     "metadata": {},
     "output_type": "display_data"
    },
    {
     "data": {
      "application/vnd.jupyter.widget-view+json": {
       "model_id": "3b7bf6faa3be4224ad9ff71e0975667a",
       "version_major": 2,
       "version_minor": 0
      },
      "text/plain": [
       "  0%|          | 0/36 [00:00<?, ?it/s]"
      ]
     },
     "metadata": {},
     "output_type": "display_data"
    }
   ],
   "source": [
    "from joblib import Parallel, delayed\n",
    "\n",
    "mean_size_pu = np.zeros((reps, len(Pus), T))\n",
    "\n",
    "for idx, Pu in enumerate(tqdm(Pus)):\n",
    "    \n",
    "    for idx_r in tqdm(range(reps)):\n",
    "        \n",
    "        mean_size_pu[idx_r, idx, :], _ = stochastic_unbinding(N = N, T = T, r = r, L = L, D = D, Pu = Pu, kick = True)"
   ]
  },
  {
   "cell_type": "markdown",
   "id": "86e36e79-57c6-480d-8b80-ae96fd256d1a",
   "metadata": {},
   "source": [
    "Now we can plot the results:"
   ]
  },
  {
   "cell_type": "code",
   "execution_count": 5,
   "id": "ee390576-7b36-4bcf-ac67-baa2aba0e1a2",
   "metadata": {},
   "outputs": [
    {
     "data": {
      "text/plain": [
       "<matplotlib.legend.Legend at 0x1f4d6654af0>"
      ]
     },
     "execution_count": 5,
     "metadata": {},
     "output_type": "execute_result"
    },
    {
     "data": {
      "image/png": "[encoded data removed]",
      "text/plain": [
       "<Figure size 432x288 with 1 Axes>"
      ]
     },
     "metadata": {
      "needs_background": "light"
     },
     "output_type": "display_data"
    }
   ],
   "source": [
    "import matplotlib.pyplot as plt\n",
    "plasma = plt.cm.get_cmap('plasma', mean_size_pu.shape[1]+1); colors = plasma(range(mean_size_pu.shape[1]))\n",
    "\n",
    "fig, ax = plt.subplots()\n",
    "for idx, mean_size in enumerate(mean_size_pu.transpose(1, 0, 2)):\n",
    "    mean = mean_size.mean(0)\n",
    "    var = mean_size.var(0)\n",
    "    \n",
    "    ax.loglog(np.arange(T), mean, c = colors[idx], label = fr'$P_u = {np.round(1-Pus[idx], 3)}$')\n",
    "    ax.fill_between(np.arange(T), mean-var, mean+var, facecolor = colors[idx], alpha = 0.1)\n",
    "\n",
    "ax.axhline(np.sqrt(N), ls = '--', c  = 'k', label = r'$\\sqrt{N}$')\n",
    "ax.legend() "
   ]
  },
  {
   "cell_type": "markdown",
   "id": "11cbb843-a754-46cf-8386-589c4ecb0442",
   "metadata": {},
   "source": [
    "As you can see, with few repetitions the results are quite noisy. As an example, below are the results obtained for the same system but 360 repetitions (`reps = 360`) and longer times (`T=1e3`):\n",
    "\n",
    "<center>\n",
    "<img src=\"long_simulations.png\" alt=\"drawing\" width=\"300\"/>\n",
    "<center>\n"
   ]
  },
  {
   "cell_type": "code",
   "execution_count": null,
   "id": "c8809540-6472-4df1-8048-a8a770073166",
   "metadata": {},
   "outputs": [],
   "source": []
  }
 ],
 "metadata": {
  "kernelspec": {
   "display_name": "Python 3 (ipykernel)",
   "language": "python",
   "name": "python3"
  },
  "language_info": {
   "codemirror_mode": {
    "name": "ipython",
    "version": 3
   },
   "file_extension": ".py",
   "mimetype": "text/x-python",
   "name": "python",
   "nbconvert_exporter": "python",
   "pygments_lexer": "ipython3",
   "version": "3.9.12"
  }
 },
 "nbformat": 4,
 "nbformat_minor": 5
}
